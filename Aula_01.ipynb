{
  "nbformat": 4,
  "nbformat_minor": 0,
  "metadata": {
    "colab": {
      "provenance": [],
      "toc_visible": true,
      "authorship_tag": "ABX9TyMmdgOylirwd46YZxt47+oQ",
      "include_colab_link": true
    },
    "kernelspec": {
      "name": "python3",
      "display_name": "Python 3"
    },
    "language_info": {
      "name": "python"
    }
  },
  "cells": [
    {
      "cell_type": "markdown",
      "metadata": {
        "id": "view-in-github",
        "colab_type": "text"
      },
      "source": [
        "<a href=\"https://colab.research.google.com/github/JonilsonSouza/aprendendoPython/blob/main/Aula_01.ipynb\" target=\"_parent\"><img src=\"https://colab.research.google.com/assets/colab-badge.svg\" alt=\"Open In Colab\"/></a>"
      ]
    },
    {
      "cell_type": "markdown",
      "source": [
        "#AULA PYTHON\n"
      ],
      "metadata": {
        "id": "HsVbvTm7ldWS"
      }
    },
    {
      "cell_type": "markdown",
      "source": [],
      "metadata": {
        "id": "jTZtikI_mX6K"
      }
    },
    {
      "cell_type": "code",
      "source": [
        "# Declaração de variáveis\n",
        "nome = \"Jonilson\"\n",
        "idade = 29\n",
        "altura = 1.78\n",
        "\n",
        "# Impressão de variáveis\n",
        "print(nome)\n",
        "print(idade)\n",
        "print(altura)\n",
        "\n",
        "# Condicionais\n",
        "if idade >= 18:\n",
        "    print(\"Você é maior de idade.\"+ nome)\n",
        "else:\n",
        "    print(\"Você é menor de idade.\")\n",
        "\n",
        "# Loops\n",
        "for i in range(3):\n",
        "    print(i)\n",
        "\n",
        "# While loop\n",
        "contador = 0\n",
        "while contador < 5:\n",
        "    print(contador)\n",
        "    contador += 1\n",
        "# Definindo uma função\n",
        "def saudacao(nome):\n",
        "    print(\"Olá, \" + nome + \"! Bem-vindo(a)!\")\n",
        "  \n",
        "# Chamando a função\n",
        "saudacao(\"JONILSON\")\n"
      ],
      "metadata": {
        "colab": {
          "base_uri": "https://localhost:8080/"
        },
        "id": "LFaoJhBsoDDC",
        "outputId": "b51a1834-82ac-44e9-f36b-d7e91f6dfbc4"
      },
      "execution_count": 7,
      "outputs": [
        {
          "output_type": "stream",
          "name": "stdout",
          "text": [
            "Jonilson\n",
            "29\n",
            "1.78\n",
            "Você é maior de idade.Jonilson\n",
            "0\n",
            "1\n",
            "2\n",
            "0\n",
            "1\n",
            "2\n",
            "3\n",
            "4\n",
            "Olá, JONILSON! Bem-vindo(a)!\n"
          ]
        }
      ]
    },
    {
      "cell_type": "code",
      "source": [],
      "metadata": {
        "id": "2U9Dg7xEr4ES"
      },
      "execution_count": null,
      "outputs": []
    }
  ]
}